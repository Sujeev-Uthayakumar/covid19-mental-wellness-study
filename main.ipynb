{
 "cells": [
  {
   "cell_type": "markdown",
   "metadata": {},
   "source": [
    "# Impact of Covid-19 on Mental Health and Wellbeing in Canada"
   ]
  },
  {
   "cell_type": "markdown",
   "metadata": {},
   "source": [
    "### Import Packages"
   ]
  },
  {
   "cell_type": "code",
   "execution_count": 1,
   "metadata": {},
   "outputs": [
    {
     "name": "stdout",
     "output_type": "stream",
     "text": [
      "Warning: Your Kaggle API key is readable by other users on this system! To fix this, you can run 'chmod 600 /Users/daniyalkhan/.kaggle/kaggle.json'\n"
     ]
    }
   ],
   "source": [
    "import kaggle\n",
    "import os\n",
    "import pandas as pd\n",
    "import matplotlib.pyplot as plt\n",
    "import matplotlib.dates as mdates\n",
    "from sklearn.model_selection import train_test_split\n",
    "from sklearn.preprocessing import PolynomialFeatures\n",
    "from sklearn.linear_model import LinearRegression\n",
    "from sklearn.metrics import r2_score, mean_squared_error\n",
    "import seaborn as sns\n",
    "import numpy as np"
   ]
  },
  {
   "cell_type": "markdown",
   "metadata": {},
   "source": [
    "### Download Dataset "
   ]
  },
  {
   "cell_type": "code",
   "execution_count": 2,
   "metadata": {},
   "outputs": [],
   "source": [
    "folder_name = \"Covid_19_Dataset\"\n",
    "if not os.path.exists(folder_name):\n",
    "    os.makedirs(folder_name)\n",
    "\n",
    "directory_path = os.path.join(os.getcwd(), folder_name)\n",
    "kaggle.api.dataset_download_files('imdevskp/corona-virus-report', path=directory_path, unzip=True)"
   ]
  },
  {
   "cell_type": "markdown",
   "metadata": {},
   "source": []
  },
  {
   "cell_type": "code",
   "execution_count": 3,
   "metadata": {},
   "outputs": [
    {
     "data": {
      "text/html": [
       "<div>\n",
       "<style scoped>\n",
       "    .dataframe tbody tr th:only-of-type {\n",
       "        vertical-align: middle;\n",
       "    }\n",
       "\n",
       "    .dataframe tbody tr th {\n",
       "        vertical-align: top;\n",
       "    }\n",
       "\n",
       "    .dataframe thead th {\n",
       "        text-align: right;\n",
       "    }\n",
       "</style>\n",
       "<table border=\"1\" class=\"dataframe\">\n",
       "  <thead>\n",
       "    <tr style=\"text-align: right;\">\n",
       "      <th></th>\n",
       "      <th>Date</th>\n",
       "      <th>Country/Region</th>\n",
       "      <th>Confirmed</th>\n",
       "      <th>Deaths</th>\n",
       "      <th>Recovered</th>\n",
       "      <th>Active</th>\n",
       "      <th>New cases</th>\n",
       "      <th>New deaths</th>\n",
       "      <th>New recovered</th>\n",
       "      <th>WHO Region</th>\n",
       "    </tr>\n",
       "  </thead>\n",
       "  <tbody>\n",
       "    <tr>\n",
       "      <th>0</th>\n",
       "      <td>2020-01-22</td>\n",
       "      <td>Afghanistan</td>\n",
       "      <td>0</td>\n",
       "      <td>0</td>\n",
       "      <td>0</td>\n",
       "      <td>0</td>\n",
       "      <td>0</td>\n",
       "      <td>0</td>\n",
       "      <td>0</td>\n",
       "      <td>Eastern Mediterranean</td>\n",
       "    </tr>\n",
       "    <tr>\n",
       "      <th>1</th>\n",
       "      <td>2020-01-22</td>\n",
       "      <td>Albania</td>\n",
       "      <td>0</td>\n",
       "      <td>0</td>\n",
       "      <td>0</td>\n",
       "      <td>0</td>\n",
       "      <td>0</td>\n",
       "      <td>0</td>\n",
       "      <td>0</td>\n",
       "      <td>Europe</td>\n",
       "    </tr>\n",
       "    <tr>\n",
       "      <th>2</th>\n",
       "      <td>2020-01-22</td>\n",
       "      <td>Algeria</td>\n",
       "      <td>0</td>\n",
       "      <td>0</td>\n",
       "      <td>0</td>\n",
       "      <td>0</td>\n",
       "      <td>0</td>\n",
       "      <td>0</td>\n",
       "      <td>0</td>\n",
       "      <td>Africa</td>\n",
       "    </tr>\n",
       "    <tr>\n",
       "      <th>3</th>\n",
       "      <td>2020-01-22</td>\n",
       "      <td>Andorra</td>\n",
       "      <td>0</td>\n",
       "      <td>0</td>\n",
       "      <td>0</td>\n",
       "      <td>0</td>\n",
       "      <td>0</td>\n",
       "      <td>0</td>\n",
       "      <td>0</td>\n",
       "      <td>Europe</td>\n",
       "    </tr>\n",
       "    <tr>\n",
       "      <th>4</th>\n",
       "      <td>2020-01-22</td>\n",
       "      <td>Angola</td>\n",
       "      <td>0</td>\n",
       "      <td>0</td>\n",
       "      <td>0</td>\n",
       "      <td>0</td>\n",
       "      <td>0</td>\n",
       "      <td>0</td>\n",
       "      <td>0</td>\n",
       "      <td>Africa</td>\n",
       "    </tr>\n",
       "  </tbody>\n",
       "</table>\n",
       "</div>"
      ],
      "text/plain": [
       "         Date Country/Region  Confirmed  Deaths  Recovered  Active  New cases  \\\n",
       "0  2020-01-22    Afghanistan          0       0          0       0          0   \n",
       "1  2020-01-22        Albania          0       0          0       0          0   \n",
       "2  2020-01-22        Algeria          0       0          0       0          0   \n",
       "3  2020-01-22        Andorra          0       0          0       0          0   \n",
       "4  2020-01-22         Angola          0       0          0       0          0   \n",
       "\n",
       "   New deaths  New recovered             WHO Region  \n",
       "0           0              0  Eastern Mediterranean  \n",
       "1           0              0                 Europe  \n",
       "2           0              0                 Africa  \n",
       "3           0              0                 Europe  \n",
       "4           0              0                 Africa  "
      ]
     },
     "execution_count": 3,
     "metadata": {},
     "output_type": "execute_result"
    }
   ],
   "source": [
    "df = pd.read_csv('Covid_19_Dataset/full_grouped.csv')\n",
    "df.head()"
   ]
  },
  {
   "cell_type": "code",
   "execution_count": 4,
   "metadata": {},
   "outputs": [
    {
     "data": {
      "text/html": [
       "<div>\n",
       "<style scoped>\n",
       "    .dataframe tbody tr th:only-of-type {\n",
       "        vertical-align: middle;\n",
       "    }\n",
       "\n",
       "    .dataframe tbody tr th {\n",
       "        vertical-align: top;\n",
       "    }\n",
       "\n",
       "    .dataframe thead th {\n",
       "        text-align: right;\n",
       "    }\n",
       "</style>\n",
       "<table border=\"1\" class=\"dataframe\">\n",
       "  <thead>\n",
       "    <tr style=\"text-align: right;\">\n",
       "      <th></th>\n",
       "      <th>Date</th>\n",
       "      <th>Country/Region</th>\n",
       "      <th>Confirmed</th>\n",
       "      <th>Deaths</th>\n",
       "      <th>Recovered</th>\n",
       "      <th>Active</th>\n",
       "      <th>New cases</th>\n",
       "      <th>New deaths</th>\n",
       "      <th>New recovered</th>\n",
       "      <th>WHO Region</th>\n",
       "    </tr>\n",
       "  </thead>\n",
       "  <tbody>\n",
       "    <tr>\n",
       "      <th>32</th>\n",
       "      <td>2020-01-22</td>\n",
       "      <td>Canada</td>\n",
       "      <td>0</td>\n",
       "      <td>0</td>\n",
       "      <td>0</td>\n",
       "      <td>0</td>\n",
       "      <td>0</td>\n",
       "      <td>0</td>\n",
       "      <td>0</td>\n",
       "      <td>Americas</td>\n",
       "    </tr>\n",
       "    <tr>\n",
       "      <th>219</th>\n",
       "      <td>2020-01-23</td>\n",
       "      <td>Canada</td>\n",
       "      <td>0</td>\n",
       "      <td>0</td>\n",
       "      <td>0</td>\n",
       "      <td>0</td>\n",
       "      <td>0</td>\n",
       "      <td>0</td>\n",
       "      <td>0</td>\n",
       "      <td>Americas</td>\n",
       "    </tr>\n",
       "    <tr>\n",
       "      <th>406</th>\n",
       "      <td>2020-01-24</td>\n",
       "      <td>Canada</td>\n",
       "      <td>0</td>\n",
       "      <td>0</td>\n",
       "      <td>0</td>\n",
       "      <td>0</td>\n",
       "      <td>0</td>\n",
       "      <td>0</td>\n",
       "      <td>0</td>\n",
       "      <td>Americas</td>\n",
       "    </tr>\n",
       "    <tr>\n",
       "      <th>593</th>\n",
       "      <td>2020-01-25</td>\n",
       "      <td>Canada</td>\n",
       "      <td>0</td>\n",
       "      <td>0</td>\n",
       "      <td>0</td>\n",
       "      <td>0</td>\n",
       "      <td>0</td>\n",
       "      <td>0</td>\n",
       "      <td>0</td>\n",
       "      <td>Americas</td>\n",
       "    </tr>\n",
       "    <tr>\n",
       "      <th>780</th>\n",
       "      <td>2020-01-26</td>\n",
       "      <td>Canada</td>\n",
       "      <td>1</td>\n",
       "      <td>0</td>\n",
       "      <td>0</td>\n",
       "      <td>1</td>\n",
       "      <td>1</td>\n",
       "      <td>0</td>\n",
       "      <td>0</td>\n",
       "      <td>Americas</td>\n",
       "    </tr>\n",
       "  </tbody>\n",
       "</table>\n",
       "</div>"
      ],
      "text/plain": [
       "           Date Country/Region  Confirmed  Deaths  Recovered  Active  \\\n",
       "32   2020-01-22         Canada          0       0          0       0   \n",
       "219  2020-01-23         Canada          0       0          0       0   \n",
       "406  2020-01-24         Canada          0       0          0       0   \n",
       "593  2020-01-25         Canada          0       0          0       0   \n",
       "780  2020-01-26         Canada          1       0          0       1   \n",
       "\n",
       "     New cases  New deaths  New recovered WHO Region  \n",
       "32           0           0              0   Americas  \n",
       "219          0           0              0   Americas  \n",
       "406          0           0              0   Americas  \n",
       "593          0           0              0   Americas  \n",
       "780          1           0              0   Americas  "
      ]
     },
     "execution_count": 4,
     "metadata": {},
     "output_type": "execute_result"
    }
   ],
   "source": [
    "canada_df = df[df['Country/Region'] == 'Canada']\n",
    "canada_df.head()"
   ]
  },
  {
   "cell_type": "code",
   "execution_count": 5,
   "metadata": {},
   "outputs": [
    {
     "data": {
      "text/plain": [
       "Text(0, 0.5, 'Total cases(#)')"
      ]
     },
     "execution_count": 5,
     "metadata": {},
     "output_type": "execute_result"
    },
    {
     "data": {
      "image/png": "[encoded data removed]",
      "text/plain": [
       "<Figure size 1080x360 with 1 Axes>"
      ]
     },
     "metadata": {
      "needs_background": "light"
     },
     "output_type": "display_data"
    }
   ],
   "source": [
    "fig , ax = plt.subplots(figsize = (15,5))\n",
    "canada_df.set_index('Date')['Confirmed'].plot(kind='line')\n",
    "\n",
    "ax.xaxis.set_major_locator(mdates.MonthLocator())\n",
    "ax.xaxis.set_major_formatter(mdates.DateFormatter('%b')) \n",
    "plt.ylabel('Total cases(#)')"
   ]
  },
  {
   "cell_type": "code",
   "execution_count": 6,
   "metadata": {},
   "outputs": [
    {
     "name": "stderr",
     "output_type": "stream",
     "text": [
      "<ipython-input-6-f40a55df6b0d>:1: FutureWarning: Indexing with multiple keys (implicitly converted to a tuple of keys) will be deprecated, use a list instead.\n",
      "  canada_covid_cases = canada_df.groupby(\n"
     ]
    },
    {
     "data": {
      "text/html": [
       "<div>\n",
       "<style scoped>\n",
       "    .dataframe tbody tr th:only-of-type {\n",
       "        vertical-align: middle;\n",
       "    }\n",
       "\n",
       "    .dataframe tbody tr th {\n",
       "        vertical-align: top;\n",
       "    }\n",
       "\n",
       "    .dataframe thead th {\n",
       "        text-align: right;\n",
       "    }\n",
       "</style>\n",
       "<table border=\"1\" class=\"dataframe\">\n",
       "  <thead>\n",
       "    <tr style=\"text-align: right;\">\n",
       "      <th></th>\n",
       "      <th>Date</th>\n",
       "      <th>Confirmed</th>\n",
       "      <th>Deaths</th>\n",
       "      <th>Recovered</th>\n",
       "    </tr>\n",
       "  </thead>\n",
       "  <tbody>\n",
       "    <tr>\n",
       "      <th>0</th>\n",
       "      <td>2020-01-22</td>\n",
       "      <td>0</td>\n",
       "      <td>0</td>\n",
       "      <td>0</td>\n",
       "    </tr>\n",
       "    <tr>\n",
       "      <th>1</th>\n",
       "      <td>2020-01-23</td>\n",
       "      <td>0</td>\n",
       "      <td>0</td>\n",
       "      <td>0</td>\n",
       "    </tr>\n",
       "    <tr>\n",
       "      <th>2</th>\n",
       "      <td>2020-01-24</td>\n",
       "      <td>0</td>\n",
       "      <td>0</td>\n",
       "      <td>0</td>\n",
       "    </tr>\n",
       "    <tr>\n",
       "      <th>3</th>\n",
       "      <td>2020-01-25</td>\n",
       "      <td>0</td>\n",
       "      <td>0</td>\n",
       "      <td>0</td>\n",
       "    </tr>\n",
       "    <tr>\n",
       "      <th>4</th>\n",
       "      <td>2020-01-26</td>\n",
       "      <td>1</td>\n",
       "      <td>0</td>\n",
       "      <td>0</td>\n",
       "    </tr>\n",
       "  </tbody>\n",
       "</table>\n",
       "</div>"
      ],
      "text/plain": [
       "         Date  Confirmed  Deaths  Recovered\n",
       "0  2020-01-22          0       0          0\n",
       "1  2020-01-23          0       0          0\n",
       "2  2020-01-24          0       0          0\n",
       "3  2020-01-25          0       0          0\n",
       "4  2020-01-26          1       0          0"
      ]
     },
     "execution_count": 6,
     "metadata": {},
     "output_type": "execute_result"
    }
   ],
   "source": [
    "canada_covid_cases = canada_df.groupby(\n",
    "    [\"Date\"])['Confirmed', 'Deaths', 'Recovered'].sum().reset_index()\n",
    "canada_covid_cases.head()"
   ]
  },
  {
   "cell_type": "code",
   "execution_count": 7,
   "metadata": {},
   "outputs": [
    {
     "name": "stdout",
     "output_type": "stream",
     "text": [
      "Number of indexes: 188\n"
     ]
    }
   ],
   "source": [
    "num_indexes = canada_covid_cases.shape[0]\n",
    "print(\"Number of indexes:\", num_indexes)"
   ]
  },
  {
   "cell_type": "code",
   "execution_count": 8,
   "metadata": {},
   "outputs": [
    {
     "data": {
      "image/png": "[encoded data removed]",
      "text/plain": [
       "<Figure size 432x288 with 1 Axes>"
      ]
     },
     "metadata": {
      "needs_background": "light"
     },
     "output_type": "display_data"
    }
   ],
   "source": [
    "ax = plt.gca()\n",
    "canada_covid_cases.plot(kind='line', x='Date', y='Confirmed', color='blue', ax=ax)\n",
    "canada_covid_cases.plot(kind='line', x='Date', y='Deaths', color='red', ax=ax)\n",
    "canada_covid_cases.plot(kind='line', x='Date', y='Recovered', color='green', ax=ax)\n",
    "\n",
    "ax.xaxis.set_major_locator(mdates.MonthLocator())\n",
    "ax.xaxis.set_major_formatter(mdates.DateFormatter('%b'))  \n",
    "\n",
    "plt.ylabel('Total cases (#)')\n",
    "plt.title('Total confirmed, death, and recovered cases in Canada')\n",
    "\n",
    "plt.show()"
   ]
  },
  {
   "cell_type": "code",
   "execution_count": 9,
   "metadata": {},
   "outputs": [],
   "source": [
    "covid_index_df = pd.DataFrame(canada_covid_cases.index)\n",
    "covid_confirmed_df = pd.DataFrame(canada_covid_cases.Confirmed)"
   ]
  },
  {
   "cell_type": "code",
   "execution_count": 10,
   "metadata": {},
   "outputs": [],
   "source": [
    "x_days_train = covid_index_df[0:185] # train the model using 90 precent of data\n",
    "x_days_validate = covid_index_df[185:188] # Validate the model using 10 precent of data"
   ]
  },
  {
   "cell_type": "code",
   "execution_count": 11,
   "metadata": {},
   "outputs": [],
   "source": [
    "y_confirmed_train = covid_confirmed_df[0:185]# train the model using 90 precent of data\n",
    "y_confirmed_validate = covid_confirmed_df[185:188]# Validate the model using 10 precent of data"
   ]
  },
  {
   "cell_type": "code",
   "execution_count": 12,
   "metadata": {},
   "outputs": [
    {
     "data": {
      "image/png": "[encoded data removed]",
      "text/plain": [
       "<Figure size 432x288 with 1 Axes>"
      ]
     },
     "metadata": {
      "needs_background": "light"
     },
     "output_type": "display_data"
    }
   ],
   "source": [
    "ln_model = LinearRegression()\n",
    "ln_model.fit(x_days_train, y_confirmed_train)\n",
    "plt.scatter(x_days_train, y_confirmed_train, color='red', label='Actual', s=0.5)\n",
    "plt.plot(x_days_train.values, ln_model.predict(x_days_train.values), color='blue', label='Predicted')\n",
    "plt.title('COVID-19 confirmed cases of Canada (Linear Regression)')\n",
    "plt.xlabel('Days')\n",
    "plt.ylabel('Confirmed (#)')\n",
    "plt.legend() \n",
    "plt.show()\n"
   ]
  },
  {
   "cell_type": "code",
   "execution_count": 14,
   "metadata": {},
   "outputs": [
    {
     "name": "stdout",
     "output_type": "stream",
     "text": [
      "R2 Score:  0.9254345230308971\n",
      "MSE:  151167811.8883213\n",
      "RMSE:  12295.032000296758\n"
     ]
    }
   ],
   "source": [
    "score_linear = r2_score(y_confirmed_train, ln_model.predict(x_days_train)) \n",
    "print('R2 Score: ', score_linear)\n",
    "\n",
    "mse_linear = mean_squared_error(y_confirmed_train, ln_model.predict(x_days_train))\n",
    "print('MSE: ', mse_linear)\n",
    "\n",
    "rmse_linear = np.sqrt(mse_linear)\n",
    "print('RMSE: ', rmse_linear)"
   ]
  },
  {
   "cell_type": "code",
   "execution_count": 15,
   "metadata": {},
   "outputs": [
    {
     "data": {
      "image/png": "[encoded data removed]",
      "text/plain": [
       "<Figure size 432x288 with 1 Axes>"
      ]
     },
     "metadata": {
      "needs_background": "light"
     },
     "output_type": "display_data"
    }
   ],
   "source": [
    "poly_reg = PolynomialFeatures(degree=9)\n",
    "x_poly = poly_reg.fit_transform(x_days_train)\n",
    "lin_reg = LinearRegression()\n",
    "lin_reg.fit(x_poly, y_confirmed_train)\n",
    "\n",
    "\n",
    "plt.scatter(x_days_train, y_confirmed_train, color='red',label='Actual', s=0.5)\n",
    "plt.plot(x_days_train.values, lin_reg.predict(\n",
    "    poly_reg.fit_transform(x_days_train.values)), label='Predicted', color='blue')\n",
    "plt.title(\"COVID-19 confimed cases of Canada (Polynomial Regression Model)\")\n",
    "plt.xlabel('Days')\n",
    "plt.ylabel('Total confirmed cases(#)')\n",
    "plt.legend()\n",
    "plt.show()"
   ]
  },
  {
   "cell_type": "code",
   "execution_count": 16,
   "metadata": {},
   "outputs": [
    {
     "name": "stdout",
     "output_type": "stream",
     "text": [
      "R2 Score:  0.99960587078847\n",
      "MSE:  799024.6013306862\n",
      "RMSE:  893.8817602628919\n"
     ]
    }
   ],
   "source": [
    "y_predicted = lin_reg.predict(poly_reg.fit_transform(x_days_train))\n",
    "\n",
    "score_poly = r2_score(y_confirmed_train, y_predicted) \n",
    "print('R2 Score: ', score_poly)\n",
    "\n",
    "mse_poly = mean_squared_error(y_confirmed_train, y_predicted)\n",
    "print('MSE: ', mse_poly)\n",
    "\n",
    "rmse_poly = np.sqrt(mse_poly)\n",
    "print('RMSE: ', rmse_poly)"
   ]
  },
  {
   "cell_type": "code",
   "execution_count": 17,
   "metadata": {},
   "outputs": [
    {
     "name": "stdout",
     "output_type": "stream",
     "text": [
      "   Real Value  Predicted Value\n",
      "0      115457           114554\n",
      "1      115776           114807\n",
      "2      116458           115034\n"
     ]
    }
   ],
   "source": [
    "y_predicted_validate = lin_reg.predict(poly_reg.fit_transform(x_days_validate))\n",
    "y_pred_rounded = np.round(y_predicted_validate).astype(int)\n",
    "result = pd.DataFrame(y_pred_rounded, columns=['Predicted Value'])\n",
    "result['Real Value'] = y_confirmed_validate.values\n",
    "result = result[['Real Value', 'Predicted Value']]\n",
    "\n",
    "print(result)"
   ]
  },
  {
   "cell_type": "code",
   "execution_count": 18,
   "metadata": {},
   "outputs": [
    {
     "name": "stdout",
     "output_type": "stream",
     "text": [
      "R2 Score:  -6.2288823900968096\n",
      "MSE:  1260143.5974966025\n",
      "RMSE:  1122.5611776186643\n"
     ]
    }
   ],
   "source": [
    "y_predicted_validate = lin_reg.predict(poly_reg.fit_transform(x_days_validate))\n",
    "\n",
    "score_poly = r2_score(y_confirmed_validate, y_predicted_validate) \n",
    "print('R2 Score: ', score_poly)\n",
    "\n",
    "mse_poly = mean_squared_error(y_confirmed_validate, y_predicted_validate)\n",
    "print('MSE: ', mse_poly)\n",
    "\n",
    "rmse_poly = np.sqrt(mse_poly)\n",
    "print('RMSE: ', rmse_poly)"
   ]
  },
  {
   "cell_type": "code",
   "execution_count": 19,
   "metadata": {},
   "outputs": [
    {
     "data": {
      "text/html": [
       "<div>\n",
       "<style scoped>\n",
       "    .dataframe tbody tr th:only-of-type {\n",
       "        vertical-align: middle;\n",
       "    }\n",
       "\n",
       "    .dataframe tbody tr th {\n",
       "        vertical-align: top;\n",
       "    }\n",
       "\n",
       "    .dataframe thead th {\n",
       "        text-align: right;\n",
       "    }\n",
       "</style>\n",
       "<table border=\"1\" class=\"dataframe\">\n",
       "  <thead>\n",
       "    <tr style=\"text-align: right;\">\n",
       "      <th></th>\n",
       "      <th>REF_DATE</th>\n",
       "      <th>GEO</th>\n",
       "      <th>DGUID</th>\n",
       "      <th>Violations and calls for service</th>\n",
       "      <th>Statistics</th>\n",
       "      <th>UOM</th>\n",
       "      <th>UOM_ID</th>\n",
       "      <th>SCALAR_FACTOR</th>\n",
       "      <th>SCALAR_ID</th>\n",
       "      <th>VECTOR</th>\n",
       "      <th>COORDINATE</th>\n",
       "      <th>VALUE</th>\n",
       "      <th>STATUS</th>\n",
       "      <th>SYMBOL</th>\n",
       "      <th>TERMINATED</th>\n",
       "      <th>DECIMALS</th>\n",
       "    </tr>\n",
       "  </thead>\n",
       "  <tbody>\n",
       "    <tr>\n",
       "      <th>0</th>\n",
       "      <td>2019-03</td>\n",
       "      <td>Total, Selected police services</td>\n",
       "      <td>NaN</td>\n",
       "      <td>Total assaults (levels 1, 2, 3) [141]</td>\n",
       "      <td>Actual incidents</td>\n",
       "      <td>Number</td>\n",
       "      <td>223</td>\n",
       "      <td>units</td>\n",
       "      <td>0</td>\n",
       "      <td>v1267112443</td>\n",
       "      <td>20.1.1</td>\n",
       "      <td>NaN</td>\n",
       "      <td>..</td>\n",
       "      <td>NaN</td>\n",
       "      <td>t</td>\n",
       "      <td>0</td>\n",
       "    </tr>\n",
       "    <tr>\n",
       "      <th>1</th>\n",
       "      <td>2019-03</td>\n",
       "      <td>Total, Selected police services</td>\n",
       "      <td>NaN</td>\n",
       "      <td>Assaults by non-family (levels 1, 2, 3)</td>\n",
       "      <td>Actual incidents</td>\n",
       "      <td>Number</td>\n",
       "      <td>223</td>\n",
       "      <td>units</td>\n",
       "      <td>0</td>\n",
       "      <td>v1267112444</td>\n",
       "      <td>20.2.1</td>\n",
       "      <td>NaN</td>\n",
       "      <td>..</td>\n",
       "      <td>NaN</td>\n",
       "      <td>t</td>\n",
       "      <td>0</td>\n",
       "    </tr>\n",
       "    <tr>\n",
       "      <th>2</th>\n",
       "      <td>2019-03</td>\n",
       "      <td>Total, Selected police services</td>\n",
       "      <td>NaN</td>\n",
       "      <td>Assaults by family (levels 1, 2, 3)</td>\n",
       "      <td>Actual incidents</td>\n",
       "      <td>Number</td>\n",
       "      <td>223</td>\n",
       "      <td>units</td>\n",
       "      <td>0</td>\n",
       "      <td>v1267112445</td>\n",
       "      <td>20.3.1</td>\n",
       "      <td>NaN</td>\n",
       "      <td>..</td>\n",
       "      <td>NaN</td>\n",
       "      <td>t</td>\n",
       "      <td>0</td>\n",
       "    </tr>\n",
       "    <tr>\n",
       "      <th>3</th>\n",
       "      <td>2019-03</td>\n",
       "      <td>Total, Selected police services</td>\n",
       "      <td>NaN</td>\n",
       "      <td>Assaults where relationship type is unknown</td>\n",
       "      <td>Actual incidents</td>\n",
       "      <td>Number</td>\n",
       "      <td>223</td>\n",
       "      <td>units</td>\n",
       "      <td>0</td>\n",
       "      <td>v1267112446</td>\n",
       "      <td>20.4.1</td>\n",
       "      <td>NaN</td>\n",
       "      <td>..</td>\n",
       "      <td>NaN</td>\n",
       "      <td>t</td>\n",
       "      <td>0</td>\n",
       "    </tr>\n",
       "    <tr>\n",
       "      <th>4</th>\n",
       "      <td>2019-03</td>\n",
       "      <td>Total, Selected police services</td>\n",
       "      <td>NaN</td>\n",
       "      <td>Total sexual assaults (levels 1, 2, 3) [131]</td>\n",
       "      <td>Actual incidents</td>\n",
       "      <td>Number</td>\n",
       "      <td>223</td>\n",
       "      <td>units</td>\n",
       "      <td>0</td>\n",
       "      <td>v1267112447</td>\n",
       "      <td>20.5.1</td>\n",
       "      <td>NaN</td>\n",
       "      <td>..</td>\n",
       "      <td>NaN</td>\n",
       "      <td>t</td>\n",
       "      <td>0</td>\n",
       "    </tr>\n",
       "  </tbody>\n",
       "</table>\n",
       "</div>"
      ],
      "text/plain": [
       "  REF_DATE                              GEO DGUID  \\\n",
       "0  2019-03  Total, Selected police services   NaN   \n",
       "1  2019-03  Total, Selected police services   NaN   \n",
       "2  2019-03  Total, Selected police services   NaN   \n",
       "3  2019-03  Total, Selected police services   NaN   \n",
       "4  2019-03  Total, Selected police services   NaN   \n",
       "\n",
       "               Violations and calls for service        Statistics     UOM  \\\n",
       "0         Total assaults (levels 1, 2, 3) [141]  Actual incidents  Number   \n",
       "1       Assaults by non-family (levels 1, 2, 3)  Actual incidents  Number   \n",
       "2           Assaults by family (levels 1, 2, 3)  Actual incidents  Number   \n",
       "3   Assaults where relationship type is unknown  Actual incidents  Number   \n",
       "4  Total sexual assaults (levels 1, 2, 3) [131]  Actual incidents  Number   \n",
       "\n",
       "   UOM_ID SCALAR_FACTOR  SCALAR_ID       VECTOR COORDINATE  VALUE STATUS  \\\n",
       "0     223         units          0  v1267112443     20.1.1    NaN     ..   \n",
       "1     223         units          0  v1267112444     20.2.1    NaN     ..   \n",
       "2     223         units          0  v1267112445     20.3.1    NaN     ..   \n",
       "3     223         units          0  v1267112446     20.4.1    NaN     ..   \n",
       "4     223         units          0  v1267112447     20.5.1    NaN     ..   \n",
       "\n",
       "   SYMBOL TERMINATED  DECIMALS  \n",
       "0     NaN          t         0  \n",
       "1     NaN          t         0  \n",
       "2     NaN          t         0  \n",
       "3     NaN          t         0  \n",
       "4     NaN          t         0  "
      ]
     },
     "execution_count": 19,
     "metadata": {},
     "output_type": "execute_result"
    }
   ],
   "source": [
    "df = pd.read_csv('Mental_Health_Data/Mental_Health.csv')\n",
    "df.head()"
   ]
  },
  {
   "cell_type": "code",
   "execution_count": 20,
   "metadata": {},
   "outputs": [
    {
     "data": {
      "text/html": [
       "<div>\n",
       "<style scoped>\n",
       "    .dataframe tbody tr th:only-of-type {\n",
       "        vertical-align: middle;\n",
       "    }\n",
       "\n",
       "    .dataframe tbody tr th {\n",
       "        vertical-align: top;\n",
       "    }\n",
       "\n",
       "    .dataframe thead th {\n",
       "        text-align: right;\n",
       "    }\n",
       "</style>\n",
       "<table border=\"1\" class=\"dataframe\">\n",
       "  <thead>\n",
       "    <tr style=\"text-align: right;\">\n",
       "      <th></th>\n",
       "      <th>REF_DATE</th>\n",
       "      <th>GEO</th>\n",
       "      <th>Violations and calls for service</th>\n",
       "      <th>VALUE</th>\n",
       "    </tr>\n",
       "  </thead>\n",
       "  <tbody>\n",
       "    <tr>\n",
       "      <th>6826</th>\n",
       "      <td>2020-01</td>\n",
       "      <td>Total, Selected police services</td>\n",
       "      <td>Calls for service, domestic disturbances / dis...</td>\n",
       "      <td>0</td>\n",
       "    </tr>\n",
       "    <tr>\n",
       "      <th>6827</th>\n",
       "      <td>2020-01</td>\n",
       "      <td>Total, Selected police services</td>\n",
       "      <td>Calls for service, Mental Health Act (MHA) app...</td>\n",
       "      <td>0</td>\n",
       "    </tr>\n",
       "    <tr>\n",
       "      <th>6828</th>\n",
       "      <td>2020-01</td>\n",
       "      <td>Total, Selected police services</td>\n",
       "      <td>Calls for service, mental health - other</td>\n",
       "      <td>0</td>\n",
       "    </tr>\n",
       "    <tr>\n",
       "      <th>6829</th>\n",
       "      <td>2020-01</td>\n",
       "      <td>Total, Selected police services</td>\n",
       "      <td>Calls for service, suicide/attempted suicide</td>\n",
       "      <td>0</td>\n",
       "    </tr>\n",
       "    <tr>\n",
       "      <th>6830</th>\n",
       "      <td>2020-01</td>\n",
       "      <td>Total, Selected police services</td>\n",
       "      <td>Calls for service, overdose</td>\n",
       "      <td>0</td>\n",
       "    </tr>\n",
       "  </tbody>\n",
       "</table>\n",
       "</div>"
      ],
      "text/plain": [
       "     REF_DATE                              GEO  \\\n",
       "6826  2020-01  Total, Selected police services   \n",
       "6827  2020-01  Total, Selected police services   \n",
       "6828  2020-01  Total, Selected police services   \n",
       "6829  2020-01  Total, Selected police services   \n",
       "6830  2020-01  Total, Selected police services   \n",
       "\n",
       "                       Violations and calls for service  VALUE  \n",
       "6826  Calls for service, domestic disturbances / dis...      0  \n",
       "6827  Calls for service, Mental Health Act (MHA) app...      0  \n",
       "6828           Calls for service, mental health - other      0  \n",
       "6829       Calls for service, suicide/attempted suicide      0  \n",
       "6830                        Calls for service, overdose      0  "
      ]
     },
     "execution_count": 20,
     "metadata": {},
     "output_type": "execute_result"
    }
   ],
   "source": [
    "filtered_df = df[(df['REF_DATE'] >= '2020-01') & (df['REF_DATE'] < '2020-07')]\n",
    "selected_columns = ['REF_DATE', 'GEO','Violations and calls for service', 'VALUE']\n",
    "filtered_df = filtered_df[selected_columns]\n",
    "selected_violations = [\n",
    "    'Calls for service, domestic disturbances / disputes',\n",
    "    'Calls for service, Mental Health Act (MHA) apprehension',\n",
    "    'Calls for service, mental health - other',\n",
    "    'Calls for service, suicide/attempted suicide',\n",
    "    'Calls for service, overdose',\n",
    "    'Calls for service, child welfare check',\n",
    "    'Calls for service, check welfare - general',\n",
    "    'Calls for service, child custody matter - domestic'\n",
    "]\n",
    "filtered_df = filtered_df[filtered_df['Violations and calls for service'].isin(selected_violations)]\n",
    "filtered_df['VALUE'] = filtered_df['VALUE'].fillna(0)\n",
    "filtered_df['VALUE'] = filtered_df['VALUE'].astype(int)\n",
    "filtered_df.head()"
   ]
  },
  {
   "cell_type": "code",
   "execution_count": 21,
   "metadata": {},
   "outputs": [
    {
     "data": {
      "image/png": "[encoded data removed]",
      "text/plain": [
       "<Figure size 432x288 with 1 Axes>"
      ]
     },
     "metadata": {
      "needs_background": "light"
     },
     "output_type": "display_data"
    }
   ],
   "source": [
    "filtered_df.sort_values(by='REF_DATE', inplace=True)\n",
    "plt.bar(filtered_df['REF_DATE'], filtered_df['VALUE'])\n",
    "plt.xlabel('Date')\n",
    "plt.ylabel('Value')\n",
    "plt.title('Mental Health Calls')\n",
    "plt.xticks(rotation=45)\n",
    "plt.show()"
   ]
  },
  {
   "cell_type": "code",
   "execution_count": null,
   "metadata": {},
   "outputs": [],
   "source": []
  }
 ],
 "metadata": {
  "kernelspec": {
   "display_name": "Python 3",
   "language": "python",
   "name": "python3"
  },
  "language_info": {
   "codemirror_mode": {
    "name": "ipython",
    "version": 3
   },
   "file_extension": ".py",
   "mimetype": "text/x-python",
   "name": "python",
   "nbconvert_exporter": "python",
   "pygments_lexer": "ipython3",
   "version": "3.8.5"
  }
 },
 "nbformat": 4,
 "nbformat_minor": 2
}
